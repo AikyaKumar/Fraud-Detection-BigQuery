{
  "cells": [
    {
      "cell_type": "markdown",
      "source": [
        "**<font color=#FF0000>Fraud </font> Package Installation Analysis**\n",
        "\n",
        "## 🔍 Fraud Detection in Python Package Installations Using BigQuery Logs\n",
        "\n",
        "In this notebook, we analyze command-line logs to detect suspicious `pip install` activities and identify potential security risks such as:\n",
        "\n",
        "1. **Unauthorized or malicious package installations**  \n",
        "   Using known malicious package data (e.g., from JFrog Artifactory threat reports), we flagged `pip install` commands that install packages associated with malware or typosquatting attacks.\n",
        "\n",
        "2. **Hardcoded secrets in command lines**  \n",
        "   We detect hardcoded passwords and credentials accidentally exposed in CLI arguments using regex patterns.\n",
        "\n",
        "🔑 For both types of threats, we extract:\n",
        "- The original `insert_id` values for easy traceability back to the logs.\n",
        "- Metadata such as project ID, timestamp, and command text."
      ],
      "metadata": {
        "id": "tfO_LiP3xHAu"
      },
      "id": "tfO_LiP3xHAu"
    },
    {
      "cell_type": "code",
      "execution_count": null,
      "id": "d4c19d0c-14d9-4ba4-9998-6718ab157b44",
      "metadata": {
        "tags": [],
        "id": "d4c19d0c-14d9-4ba4-9998-6718ab157b44",
        "outputId": "25c0e1d9-c834-4172-d662-f54833358edd"
      },
      "outputs": [
        {
          "name": "stdout",
          "output_type": "stream",
          "text": [
            "Requirement already satisfied: google-cloud-bigquery in /opt/conda/lib/python3.10/site-packages (3.31.0)\n",
            "Collecting google-cloud-bigquery\n",
            "  Downloading google_cloud_bigquery-3.32.0-py3-none-any.whl.metadata (7.7 kB)\n",
            "Requirement already satisfied: pandas in /opt/conda/lib/python3.10/site-packages (2.2.3)\n",
            "Requirement already satisfied: google-api-core<3.0.0,>=2.11.1 in /opt/conda/lib/python3.10/site-packages (from google-api-core[grpc]<3.0.0,>=2.11.1->google-cloud-bigquery) (2.24.2)\n",
            "Requirement already satisfied: google-auth<3.0.0,>=2.14.1 in /opt/conda/lib/python3.10/site-packages (from google-cloud-bigquery) (2.38.0)\n",
            "Requirement already satisfied: google-cloud-core<3.0.0,>=2.4.1 in /opt/conda/lib/python3.10/site-packages (from google-cloud-bigquery) (2.4.3)\n",
            "Requirement already satisfied: google-resumable-media<3.0.0,>=2.0.0 in /opt/conda/lib/python3.10/site-packages (from google-cloud-bigquery) (2.7.2)\n",
            "Requirement already satisfied: packaging>=24.2.0 in /opt/conda/lib/python3.10/site-packages (from google-cloud-bigquery) (24.2)\n",
            "Requirement already satisfied: python-dateutil<3.0.0,>=2.8.2 in /opt/conda/lib/python3.10/site-packages (from google-cloud-bigquery) (2.9.0.post0)\n",
            "Requirement already satisfied: requests<3.0.0,>=2.21.0 in /opt/conda/lib/python3.10/site-packages (from google-cloud-bigquery) (2.32.3)\n",
            "Requirement already satisfied: numpy>=1.22.4 in /opt/conda/lib/python3.10/site-packages (from pandas) (2.1.3)\n",
            "Requirement already satisfied: pytz>=2020.1 in /opt/conda/lib/python3.10/site-packages (from pandas) (2025.2)\n",
            "Requirement already satisfied: tzdata>=2022.7 in /opt/conda/lib/python3.10/site-packages (from pandas) (2025.2)\n",
            "Requirement already satisfied: googleapis-common-protos<2.0.0,>=1.56.2 in /opt/conda/lib/python3.10/site-packages (from google-api-core<3.0.0,>=2.11.1->google-api-core[grpc]<3.0.0,>=2.11.1->google-cloud-bigquery) (1.69.2)\n",
            "Requirement already satisfied: protobuf!=3.20.0,!=3.20.1,!=4.21.0,!=4.21.1,!=4.21.2,!=4.21.3,!=4.21.4,!=4.21.5,<7.0.0,>=3.19.5 in /opt/conda/lib/python3.10/site-packages (from google-api-core<3.0.0,>=2.11.1->google-api-core[grpc]<3.0.0,>=2.11.1->google-cloud-bigquery) (3.20.3)\n",
            "Requirement already satisfied: proto-plus<2.0.0,>=1.22.3 in /opt/conda/lib/python3.10/site-packages (from google-api-core<3.0.0,>=2.11.1->google-api-core[grpc]<3.0.0,>=2.11.1->google-cloud-bigquery) (1.26.1)\n",
            "Requirement already satisfied: grpcio<2.0dev,>=1.33.2 in /opt/conda/lib/python3.10/site-packages (from google-api-core[grpc]<3.0.0,>=2.11.1->google-cloud-bigquery) (1.71.0)\n",
            "Requirement already satisfied: grpcio-status<2.0.dev0,>=1.33.2 in /opt/conda/lib/python3.10/site-packages (from google-api-core[grpc]<3.0.0,>=2.11.1->google-cloud-bigquery) (1.49.0rc1)\n",
            "Requirement already satisfied: cachetools<6.0,>=2.0.0 in /opt/conda/lib/python3.10/site-packages (from google-auth<3.0.0,>=2.14.1->google-cloud-bigquery) (5.5.2)\n",
            "Requirement already satisfied: pyasn1-modules>=0.2.1 in /opt/conda/lib/python3.10/site-packages (from google-auth<3.0.0,>=2.14.1->google-cloud-bigquery) (0.4.2)\n",
            "Requirement already satisfied: rsa<5,>=3.1.4 in /opt/conda/lib/python3.10/site-packages (from google-auth<3.0.0,>=2.14.1->google-cloud-bigquery) (4.9)\n",
            "Requirement already satisfied: google-crc32c<2.0dev,>=1.0 in /opt/conda/lib/python3.10/site-packages (from google-resumable-media<3.0.0,>=2.0.0->google-cloud-bigquery) (1.7.1)\n",
            "Requirement already satisfied: six>=1.5 in /opt/conda/lib/python3.10/site-packages (from python-dateutil<3.0.0,>=2.8.2->google-cloud-bigquery) (1.17.0)\n",
            "Requirement already satisfied: charset_normalizer<4,>=2 in /opt/conda/lib/python3.10/site-packages (from requests<3.0.0,>=2.21.0->google-cloud-bigquery) (3.4.1)\n",
            "Requirement already satisfied: idna<4,>=2.5 in /opt/conda/lib/python3.10/site-packages (from requests<3.0.0,>=2.21.0->google-cloud-bigquery) (3.10)\n",
            "Requirement already satisfied: urllib3<3,>=1.21.1 in /opt/conda/lib/python3.10/site-packages (from requests<3.0.0,>=2.21.0->google-cloud-bigquery) (1.26.20)\n",
            "Requirement already satisfied: certifi>=2017.4.17 in /opt/conda/lib/python3.10/site-packages (from requests<3.0.0,>=2.21.0->google-cloud-bigquery) (2025.1.31)\n",
            "Requirement already satisfied: pyasn1<0.7.0,>=0.6.1 in /opt/conda/lib/python3.10/site-packages (from pyasn1-modules>=0.2.1->google-auth<3.0.0,>=2.14.1->google-cloud-bigquery) (0.6.1)\n",
            "Downloading google_cloud_bigquery-3.32.0-py3-none-any.whl (253 kB)\n",
            "Installing collected packages: google-cloud-bigquery\n",
            "  Attempting uninstall: google-cloud-bigquery\n",
            "    Found existing installation: google-cloud-bigquery 3.31.0\n",
            "    Uninstalling google-cloud-bigquery-3.31.0:\n",
            "      Successfully uninstalled google-cloud-bigquery-3.31.0\n",
            "Successfully installed google-cloud-bigquery-3.32.0\n"
          ]
        }
      ],
      "source": [
        "!pip install --upgrade google-cloud-bigquery pandas"
      ]
    },
    {
      "cell_type": "code",
      "execution_count": null,
      "id": "c8cdd1e2-c636-4af2-b9cf-046b7dc25841",
      "metadata": {
        "tags": [],
        "id": "c8cdd1e2-c636-4af2-b9cf-046b7dc25841"
      },
      "outputs": [],
      "source": [
        "from google.cloud import bigquery\n",
        "import pandas as pd"
      ]
    },
    {
      "cell_type": "code",
      "execution_count": null,
      "id": "0225b702-b32b-451f-8564-96154222bbad",
      "metadata": {
        "tags": [],
        "id": "0225b702-b32b-451f-8564-96154222bbad"
      },
      "outputs": [],
      "source": [
        "# Create a client object\n",
        "client = bigquery.Client()"
      ]
    },
    {
      "cell_type": "code",
      "execution_count": null,
      "id": "4d17d4af-f5db-4864-bf85-6e2207b972d0",
      "metadata": {
        "tags": [],
        "id": "4d17d4af-f5db-4864-bf85-6e2207b972d0",
        "outputId": "4f3c2939-56d7-41c1-c1f7-8d45a45b30bb"
      },
      "outputs": [
        {
          "name": "stdout",
          "output_type": "stream",
          "text": [
            "Row(('User: jovyan, Hostname: user-1, Input: \\ncode = \"\"\" //\\nconst UNIFIED_ORDER_URL = \\'https://api.mch.weixin.qq.com/pay/unifiedorder\\';\\n//\\nconst FIND_ORDER_URL = \\'https://api.mch.weixin.qq.com/pay/orderquery\\';\\nprivate $appid = \\'\\'; //appid\\nprivate $secret = \\'dads\\'; //appsecret\\nprivate $mchid = \\'\\'; //\\nprivate $key = \\'\\'; //\\nprivate $sslcert_path = \\'\\'; //\\nprivate $sslkey_path = \\'\\'; //\\npublic function __construct($appid = \\'\\', $secret = \\'\\', $mchid = \\'\\', $key = \\'\\')\\n{\\nif (!empty($appid)) $this->appid = $appid;\"\"\"\\nwith default_settings():\\n    result = main.scan_adhoc_string(code)\\n    print(result)', 'projects/db-dev-k0dy-pbawp-srh/logs/jn-logs', '', 'db-dev-k0dy-pbawp-srh', datetime.datetime(2025, 1, 28, 14, 11, 55, 635975, tzinfo=datetime.timezone.utc), '1p1p8t0flqk55n', 'kubernetes.pod.interaction', 'fe94fb9a-0b36-4a7d-a40c-1d8f23dbc21d'), {'user_interaction_awp': 0, 'logName': 1, 'user_combined': 2, 'project_id': 3, 'timestamp': 4, 'insertId': 5, 'action': 6, 'dsId': 7})\n",
            "Row(('User: jovyan, Hostname: user-1, Input: \\ncode = \"\"\" //\\nconst UNIFIED_ORDER_URL = \\'https://api.mch.weixin.qq.com/pay/unifiedorder\\';\\n//\\nconst FIND_ORDER_URL = \\'https://api.mch.weixin.qq.com/pay/orderquery\\';\\nprivate $appid = \\'\\'; //appid\\nprivate $secret = \\'dsadas\\'; //appsecret\\nprivate $mchid = \\'\\'; //\\nprivate $key = \\'\\'; //\\nprivate $sslcert_path = \\'\\'; //\\nprivate $sslkey_path = \\'\\'; //\\npublic function __construct($appid = \\'\\', $secret = \\'\\', $mchid = \\'\\', $key = \\'\\')\\n{\\nif (!empty($appid)) $this->appid = $appid;\"\"\"\\nwith default_settings():\\n    result = main.scan_adhoc_string(code)\\n    print(result)', 'projects/db-dev-k0dy-pbawp-srh/logs/jn-logs', '', 'db-dev-k0dy-pbawp-srh', datetime.datetime(2025, 1, 28, 14, 12, 2, 280681, tzinfo=datetime.timezone.utc), '1snl3j0e91z9k', 'kubernetes.pod.interaction', '93b02c32-1a64-4b02-acae-d74d443d5ca2'), {'user_interaction_awp': 0, 'logName': 1, 'user_combined': 2, 'project_id': 3, 'timestamp': 4, 'insertId': 5, 'action': 6, 'dsId': 7})\n",
            "Row(('User: jovyan, Hostname: user-1, Input: \\ncode = \"\"\"\"* @param $port (string) database connection port\\n* @param $username (string) Name of the user that owns the server process.\\n* @param $password (string) Password of the user that owns the server process.\\n* @param $database (string) Database name.\\n* @return PostgreSQL link identifier on success, or FALSE on failure.\\n*/\\nfunction F_db_connect($host = \\'localhost\\', $port = \\'5432\\', $username = \\'postgres\\', $password = \\'3423 fsd fsd \\', $database = \\'template1\\')\\n{\\n$connection_string = \\'host=\\\\\\'\\'.$host.\\'\\\\\\' port=\\\\\\'\\'.$port.\\'\\\\\\' dbname=\\\\\\'\\'.$database.\\'\\\\\\' user=\\\\\\'\\'.$username.\\'\\\\\\' password=\\\\\\'\\'.$password.\\'\\\\\\'\\';\\nif (!$db = @pg_connect($connection_string)) {\\nreturn false;\\n}\\nreturn $db;\"\\n\"\"\"\\nwith default_settings():\\n    result = main.scan_adhoc_string(code)\\n    print(result)', 'projects/db-dev-k0dy-pbawp-srh/logs/jn-logs', '', 'db-dev-k0dy-pbawp-srh', datetime.datetime(2025, 1, 28, 14, 12, 36, 499036, tzinfo=datetime.timezone.utc), 'nddioufl2qu1u', 'kubernetes.pod.interaction', '9d9f37a3-1e96-4fa0-a3b6-fc52b8043641'), {'user_interaction_awp': 0, 'logName': 1, 'user_combined': 2, 'project_id': 3, 'timestamp': 4, 'insertId': 5, 'action': 6, 'dsId': 7})\n",
            "Row(('User: jovyan, Hostname: user-1, Input: \\ncode = \"\"\"\"* @param $port (string) database connection port\\n* @param $username (string) Name of the user that owns the server process.\\n* @param $password (string) Password of the user that owns the server process.\\n* @param $database (string) Database name.\\n* @return PostgreSQL link identifier on success, or FALSE on failure.\\n*/\\nfunction F_db_connect($host = \\'localhost\\', $port = \\'5432\\', $username = \\'postgres\\', $password = \\'dsa\\', $database = \\'template1\\')\\n{\\n$connection_string = \\'host=\\\\\\'\\'.$host.\\'\\\\\\' port=\\\\\\'\\'.$port.\\'\\\\\\' dbname=\\\\\\'\\'.$database.\\'\\\\\\' user=\\\\\\'\\'.$username.\\'\\\\\\' password=\\\\\\'\\'.$password.\\'\\\\\\'\\';\\nif (!$db = @pg_connect($connection_string)) {\\nreturn false;\\n}\\nreturn $db;\"\\n\"\"\"\\nwith default_settings():\\n    result = main.scan_adhoc_string(code)\\n    print(result)', 'projects/db-dev-k0dy-pbawp-srh/logs/jn-logs', '', 'db-dev-k0dy-pbawp-srh', datetime.datetime(2025, 1, 28, 14, 12, 32, 812862, tzinfo=datetime.timezone.utc), '1c120y5f1aviam', 'kubernetes.pod.interaction', 'a05bce1e-5d7b-498f-949f-1925e06dfd57'), {'user_interaction_awp': 0, 'logName': 1, 'user_combined': 2, 'project_id': 3, 'timestamp': 4, 'insertId': 5, 'action': 6, 'dsId': 7})\n",
            "Row(('User: jovyan, Hostname: user-1, Input: \\ncode = \"\"\"# Database\\n# https://docs.djangoproject.com/en/1.11/ref/settings/#databases\\nDATABASES = {\\n\\'default\\': {\\n# \\'ENGINE\\': \\'django.db.backends.sqlite3\\',\\n# \\'NAME\\': os.path.join(BASE_DIR, \\'db.sqlite3\\')\\n\\'ENGINE\\': \\'django.db.backends.mysql\\',\\n\\'NAME\\': \\'store\\',\\n\\'USER\\': \\'root\\',\\n\\'PASSWORD\\': \\'dasa2312AD11!!\\',\\n\\'HOST\\': \\'database\\',\\n\\'PORT\\': \\'3306\\',\\n}\"\\n\"\"\"\\nwith default_settings():\\n    result = main.scan_adhoc_string(code)\\n    print(result)', 'projects/db-dev-k0dy-pbawp-srh/logs/jn-logs', '', 'db-dev-k0dy-pbawp-srh', datetime.datetime(2025, 1, 28, 14, 15, 34, 859818, tzinfo=datetime.timezone.utc), 'efjg9bf67e1of', 'kubernetes.pod.interaction', '89fd4850-a854-4f1b-96a3-2c242397a736'), {'user_interaction_awp': 0, 'logName': 1, 'user_combined': 2, 'project_id': 3, 'timestamp': 4, 'insertId': 5, 'action': 6, 'dsId': 7})\n",
            "Row(('User: jovyan, Hostname: user-1, Input: \\ncode = \"\"\"# Database\\n# https://docs.djangoproject.com/en/1.11/ref/settings/#databases\\nDATABASES = {\\n\\'default\\': {\\n# \\'ENGINE\\': \\'django.db.backends.sqlite3\\',\\n# \\'NAME\\': os.path.join(BASE_DIR, \\'db.sqlite3\\')\\n\\'ENGINE\\': \\'django.db.backends.mysql\\',\\n\\'NAME\\': \\'store\\',\\n\\'USER\\': \\'root\\',\\n\\'PASSWORD\\': \\'dasa2312AD11!!\\',\\n\\'HOST\\': \\'database\\',\\n\\'PORT\\': \\'3306\\',\\n}\"\\n\"\"\"\\nwith default_settings():\\n    result = main.scan_adhoc_string(code)\\n    print(result)', 'projects/db-dev-k0dy-pbawp-srh/logs/jn-logs', '', 'db-dev-k0dy-pbawp-srh', datetime.datetime(2025, 1, 30, 9, 0, 8, 975316, tzinfo=datetime.timezone.utc), '1gr4wqhf21m97f', 'kubernetes.pod.interaction', 'e670d4f9-c2a1-4be0-ba74-0c3a56467449'), {'user_interaction_awp': 0, 'logName': 1, 'user_combined': 2, 'project_id': 3, 'timestamp': 4, 'insertId': 5, 'action': 6, 'dsId': 7})\n",
            "Row(('User: jovyan, Hostname: user-1, Input: \\ncode = \"\"\"# Database\\n# https://docs.djangoproject.com/en/1.11/ref/settings/#databases\\nDATABASES = {\\n\\'default\\': {\\n# \\'ENGINE\\': \\'django.db.backends.sqlite3\\',\\n# \\'NAME\\': os.path.join(BASE_DIR, \\'db.sqlite3\\')\\n\\'ENGINE\\': \\'django.db.backends.mysql\\',\\n\\'NAME\\': \\'store\\',\\n\\'USER\\': \\'root\\',\\n\\'PASSWORD\\': \\'dasa2312AD11!!\\',\\n\\'HOST\\': \\'database\\',\\n\\'PORT\\': \\'3306\\',\\n}\"\\n\"\"\"\\nwith default_settings():\\n    result = main.scan_adhoc_string(code)\\n    print(result)', 'projects/db-dev-k0dy-pbawp-srh/logs/jn-logs', '', 'db-dev-k0dy-pbawp-srh', datetime.datetime(2025, 1, 30, 8, 59, 37, 227790, tzinfo=datetime.timezone.utc), '1havxnlf1zlma1', 'kubernetes.pod.interaction', 'c64cddca-8251-42ea-b2c4-9d785f446a9d'), {'user_interaction_awp': 0, 'logName': 1, 'user_combined': 2, 'project_id': 3, 'timestamp': 4, 'insertId': 5, 'action': 6, 'dsId': 7})\n",
            "Row(('User: jovyan, Hostname: user-1, Input: \\nfrom google.cloud import bigquery\\nimport re\\nfrom detect-secrets import main\\nfrom detect-secrets.settings import default_settings\\n\\ncode = \"\"\"# Database\\n# https://docs.djangoproject.com/en/1.11/ref/settings/#databases\\nDATABASES = {\\n\\'default\\': {\\n# \\'ENGINE\\': \\'django.db.backends.sqlite3\\',\\n# \\'NAME\\': os.path.join(BASE_DIR, \\'db.sqlite3\\')\\n\\'ENGINE\\': \\'django.db.backends.mysql\\',\\n\\'NAME\\': \\'store\\',\\n\\'USER\\': \\'root\\',\\n\\'PASSWORD\\': \\'dasa2312AD11!!\\',\\n\\'HOST\\': \\'database\\',\\n\\'PORT\\': \\'3306\\',\\n}\"\\n\"\"\"\\nwith default_settings():\\n    result = main.scan_adhoc_string(code)\\n    print(result)', 'projects/db-dev-k0dy-pbawp-srh/logs/jn-logs', '', 'db-dev-k0dy-pbawp-srh', datetime.datetime(2025, 1, 30, 9, 5, 35, 138116, tzinfo=datetime.timezone.utc), '1fxaiqjf232qkj', 'kubernetes.pod.interaction', '9be30fc1-975c-4550-ab4a-cdb7afdc6d14'), {'user_interaction_awp': 0, 'logName': 1, 'user_combined': 2, 'project_id': 3, 'timestamp': 4, 'insertId': 5, 'action': 6, 'dsId': 7})\n",
            "Row(('User: jovyan, Hostname: user-1, Input: \\nfrom google.cloud import bigquery\\nimport re\\nfrom detect_secrets import main\\nfrom detect_secrets.settings import default_settings\\n\\ncode = \"\"\"# Database\\n# https://docs.djangoproject.com/en/1.11/ref/settings/#databases\\nDATABASES = {\\n\\'default\\': {\\n# \\'ENGINE\\': \\'django.db.backends.sqlite3\\',\\n# \\'NAME\\': os.path.join(BASE_DIR, \\'db.sqlite3\\')\\n\\'ENGINE\\': \\'django.db.backends.mysql\\',\\n\\'NAME\\': \\'store\\',\\n\\'USER\\': \\'root\\',\\n\\'PASSWORD\\': \\'dasa2312AD11!!\\',\\n\\'HOST\\': \\'database\\',\\n\\'PORT\\': \\'3306\\',\\n}\"\\n\"\"\"\\nwith default_settings():\\n    result = main.scan_adhoc_string(code)\\n    print(result)', 'projects/db-dev-k0dy-pbawp-srh/logs/jn-logs', '', 'db-dev-k0dy-pbawp-srh', datetime.datetime(2025, 1, 30, 9, 4, 44, 363370, tzinfo=datetime.timezone.utc), '1aco6l4f20easu', 'kubernetes.pod.interaction', 'f429db5f-ba3d-44b5-8569-012ad02a35bd'), {'user_interaction_awp': 0, 'logName': 1, 'user_combined': 2, 'project_id': 3, 'timestamp': 4, 'insertId': 5, 'action': 6, 'dsId': 7})\n",
            "Row(('User: jovyan, Hostname: user-1, Input: \\nfrom google.cloud import bigquery\\nimport re\\nfrom detect_secrets import main\\nfrom detect_secrets.settings import default_settings\\n\\ncode = \"\"\"# Database\\n# https://docs.djangoproject.com/en/1.11/ref/settings/#databases\\nDATABASES = {\\n\\'default\\': {\\n# \\'ENGINE\\': \\'django.db.backends.sqlite3\\',\\n# \\'NAME\\': os.path.join(BASE_DIR, \\'db.sqlite3\\')\\n\\'ENGINE\\': \\'django.db.backends.mysql\\',\\n\\'NAME\\': \\'store\\',\\n\\'USER\\': \\'root\\',\\n\\'PASSWORD\\': \\'dasa2312AD11!!\\',\\n\\'HOST\\': \\'database\\',\\n\\'PORT\\': \\'3306\\',\\n}\"\\n\"\"\"\\nwith default_settings():\\n    result = main.scan_adhoc_string(code)\\n    print(result)', 'projects/db-dev-k0dy-pbawp-srh/logs/jn-logs', '', 'db-dev-k0dy-pbawp-srh', datetime.datetime(2025, 1, 30, 9, 5, 23, 809419, tzinfo=datetime.timezone.utc), 'h8do8lf1jckl4', 'kubernetes.pod.interaction', '2662e0a5-0acc-47a2-8e9b-cb94108f1274'), {'user_interaction_awp': 0, 'logName': 1, 'user_combined': 2, 'project_id': 3, 'timestamp': 4, 'insertId': 5, 'action': 6, 'dsId': 7})\n",
            "Row(('User: jovyan, Hostname: user-1, Input: \\nfrom google.cloud import bigquery\\nimport re\\nfrom detect_secrets import main\\nfrom detect_secrets.settings import default_settings\\nfrom detect_secrets.settings import transient_settings\\n\\ncode = \"\"\"# Database\\n# https://docs.djangoproject.com/en/1.11/ref/settings/#databases\\nDATABASES = {\\n\\'default\\': {\\n# \\'ENGINE\\': \\'django.db.backends.sqlite3\\',\\n# \\'NAME\\': os.path.join(BASE_DIR, \\'db.sqlite3\\')\\n\\'ENGINE\\': \\'django.db.backends.mysql\\',\\n\\'NAME\\': \\'store\\',\\n\\'USER\\': \\'root\\',\\n\\'PASSWORD\\': \\'dasa2312AD11!!\\',\\n\\'HOST\\': \\'database\\',\\n\\'PORT\\': \\'3306\\',\\n}\"\\n\"\"\"\\nwith default_settings():\\n    result = main.scan_adhoc_string(code)\\n    print(result)', 'projects/db-dev-k0dy-pbawp-srh/logs/jn-logs', '', 'db-dev-k0dy-pbawp-srh', datetime.datetime(2025, 1, 30, 9, 0, 25, 885049, tzinfo=datetime.timezone.utc), 'aaj7k1f1y8257', 'kubernetes.pod.interaction', 'de8bf4fc-4097-43e4-8149-09fcd4c6c7cb'), {'user_interaction_awp': 0, 'logName': 1, 'user_combined': 2, 'project_id': 3, 'timestamp': 4, 'insertId': 5, 'action': 6, 'dsId': 7})\n",
            "Row(('User: jovyan, Hostname: user-1, Input: \\nfrom google.cloud import bigquery\\nimport re\\nfrom detect_secrets import main\\nfrom detect_secrets.settings import default_settings\\nfrom detect_secrets.settings import transient_settings\\n\\ncode = \"\"\"# Database\\n# https://docs.djangoproject.com/en/1.11/ref/settings/#databases\\nDATABASES = {\\n\\'default\\': {\\n# \\'ENGINE\\': \\'django.db.backends.sqlite3\\',\\n# \\'NAME\\': os.path.join(BASE_DIR, \\'db.sqlite3\\')\\n\\'ENGINE\\': \\'django.db.backends.mysql\\',\\n\\'NAME\\': \\'store\\',\\n\\'USER\\': \\'root\\',\\n\\'PASSWORD\\': \\'dasa2312AD11!!\\',\\n\\'HOST\\': \\'database\\',\\n\\'PORT\\': \\'3306\\',\\n}\"\\n\"\"\"\\nwith default_settings():\\n    result = main.scan_adhoc_string(code)\\n    print(result)', 'projects/db-dev-k0dy-pbawp-srh/logs/jn-logs', '', 'db-dev-k0dy-pbawp-srh', datetime.datetime(2025, 1, 30, 9, 3, 22, 735352, tzinfo=datetime.timezone.utc), '18oa3h7f20o33z', 'kubernetes.pod.interaction', '9c23ac1c-4303-4c38-a25f-24e767dad335'), {'user_interaction_awp': 0, 'logName': 1, 'user_combined': 2, 'project_id': 3, 'timestamp': 4, 'insertId': 5, 'action': 6, 'dsId': 7})\n",
            "Row(('User: jovyan, Hostname: user-1, Input: !pip install ./', 'projects/db-dev-k0dy-pbawp-srh/logs/jn-logs', '', 'db-dev-k0dy-pbawp-srh', datetime.datetime(2025, 2, 10, 8, 37, 55, 320188, tzinfo=datetime.timezone.utc), '1cka4ymf4f8uc6', 'kubernetes.pod.interaction', 'ca3b7330-4987-4977-9aac-6bf24932d917'), {'user_interaction_awp': 0, 'logName': 1, 'user_combined': 2, 'project_id': 3, 'timestamp': 4, 'insertId': 5, 'action': 6, 'dsId': 7})\n",
            "Row(('User: jovyan, Hostname: user-1, Input: !pip install ./', 'projects/db-dev-k0dy-pbawp-srh/logs/jn-logs', '', 'db-dev-k0dy-pbawp-srh', datetime.datetime(2025, 2, 10, 8, 38, 11, 741971, tzinfo=datetime.timezone.utc), '1mu8di5f8rxv5b', 'kubernetes.pod.interaction', '4750985c-828f-41d8-8b33-4b5aa5d0c61f'), {'user_interaction_awp': 0, 'logName': 1, 'user_combined': 2, 'project_id': 3, 'timestamp': 4, 'insertId': 5, 'action': 6, 'dsId': 7})\n",
            "Row(('User: jovyan, Hostname: user-1, Input: !pip install /', 'projects/db-dev-k0dy-pbawp-srh/logs/jn-logs', '', 'db-dev-k0dy-pbawp-srh', datetime.datetime(2025, 2, 10, 8, 38, 3, 313630, tzinfo=datetime.timezone.utc), 'k1k27mf732w6l', 'kubernetes.pod.interaction', '6d6d74e4-79a3-4761-a73a-86674353fc40'), {'user_interaction_awp': 0, 'logName': 1, 'user_combined': 2, 'project_id': 3, 'timestamp': 4, 'insertId': 5, 'action': 6, 'dsId': 7})\n",
            "Row(('User: jovyan, Hostname: user-1, Input: !pip install /awp/work/user-1/detect-secrets-master.zip', 'projects/db-dev-k0dy-pbawp-srh/logs/jn-logs', '', 'db-dev-k0dy-pbawp-srh', datetime.datetime(2025, 1, 27, 14, 28, 4, 853534, tzinfo=datetime.timezone.utc), 'vn3lhgfkjyn7t', 'kubernetes.pod.interaction', '7003e553-e72f-433f-b03b-908a4f887bd5'), {'user_interaction_awp': 0, 'logName': 1, 'user_combined': 2, 'project_id': 3, 'timestamp': 4, 'insertId': 5, 'action': 6, 'dsId': 7})\n",
            "Row(('User: jovyan, Hostname: user-1, Input: !pip install /awp/work/user-1/detect-secrets-master.zip', 'projects/db-dev-k0dy-pbawp-srh/logs/jn-logs', '', 'db-dev-k0dy-pbawp-srh', datetime.datetime(2025, 1, 30, 9, 8, 19, 780020, tzinfo=datetime.timezone.utc), '12bq7bgf1ybo2h', 'kubernetes.pod.interaction', '8ccdd6f3-e522-4ed5-8d57-b25af80de812'), {'user_interaction_awp': 0, 'logName': 1, 'user_combined': 2, 'project_id': 3, 'timestamp': 4, 'insertId': 5, 'action': 6, 'dsId': 7})\n",
            "Row(('User: jovyan, Hostname: user-1, Input: !pip install /awp/work/user-1/detect-secrets-master.zip', 'projects/db-dev-k0dy-pbawp-srh/logs/jn-logs', '', 'db-dev-k0dy-pbawp-srh', datetime.datetime(2025, 1, 28, 10, 26, 21, 795569, tzinfo=datetime.timezone.utc), '18edk33fm81dcb', 'kubernetes.pod.interaction', '7ac83663-10f5-4cd9-b42d-7fe71a415fdb'), {'user_interaction_awp': 0, 'logName': 1, 'user_combined': 2, 'project_id': 3, 'timestamp': 4, 'insertId': 5, 'action': 6, 'dsId': 7})\n",
            "Row(('User: jovyan, Hostname: user-1, Input: !pip install /awp/work/user-1/detect-secrets-master.zip', 'projects/db-dev-k0dy-pbawp-srh/logs/jn-logs', '', 'db-dev-k0dy-pbawp-srh', datetime.datetime(2025, 1, 27, 13, 13, 58, 632437, tzinfo=datetime.timezone.utc), 'ofrdb7fjjx4ta', 'kubernetes.pod.interaction', 'fbda629a-f8ca-4082-a428-d6f2d0e56b80'), {'user_interaction_awp': 0, 'logName': 1, 'user_combined': 2, 'project_id': 3, 'timestamp': 4, 'insertId': 5, 'action': 6, 'dsId': 7})\n",
            "Row(('User: jovyan, Hostname: user-1, Input: !pip install /awp/work/user-1/detect-secrets-master.zip', 'projects/db-dev-k0dy-pbawp-srh/logs/jn-logs', '', 'db-dev-k0dy-pbawp-srh', datetime.datetime(2025, 1, 28, 10, 43, 24, 300796, tzinfo=datetime.timezone.utc), '1xdggbodnzu7', 'kubernetes.pod.interaction', '3fe6883e-2d72-4e40-b73f-31a5f3cd16cf'), {'user_interaction_awp': 0, 'logName': 1, 'user_combined': 2, 'project_id': 3, 'timestamp': 4, 'insertId': 5, 'action': 6, 'dsId': 7})\n",
            "Row(('User: jovyan, Hostname: user-1, Input: !pip install /awp/work/user-1/detect-secrets-master.zip', 'projects/db-dev-k0dy-pbawp-srh/logs/jn-logs', '', 'db-dev-k0dy-pbawp-srh', datetime.datetime(2025, 1, 30, 8, 59, 46, 461811, tzinfo=datetime.timezone.utc), 'gowdumf1zqop8', 'kubernetes.pod.interaction', 'fcb1b36f-ed10-4b0b-935d-d3acc7e536f1'), {'user_interaction_awp': 0, 'logName': 1, 'user_combined': 2, 'project_id': 3, 'timestamp': 4, 'insertId': 5, 'action': 6, 'dsId': 7})\n",
            "Row(('User: jovyan, Hostname: user-1, Input: # Beispielaufruf der Funktion\\nstring=\\'User: jovyan, Hostname: user-2, Input: api2_key = {\"glossary\": {\"title\": \"example glossary\",\"GlossDiv\": {\"password\": \"S#sjdkskks_xnjsnjxw2342\",\"GlossList\": {\"GlossEntry\": {\"ID\": \"SGML\",\"SortAs\": \"SGML\",\"GlossTerm\": \"Standard Generalized Markup Language\",\"Acronym\": \"SGML\",\"Abbrev\": \"ISO 8879:1986\",\"GlossDef\": {\"para\": \"A meta-markup language, used to create markup languages such as DocBook.\",\"GlossSeeAlso\": [\"GML\", \"XML\"]},\"GlossSee\": \"markup\"}}}}}\\'\\n\\nresult = scan_adhoc_string(string)\\nprint(result)', 'projects/db-dev-k0dy-pbawp-srh/logs/jn-logs', '', 'db-dev-k0dy-pbawp-srh', datetime.datetime(2025, 1, 27, 13, 41, 5, 655288, tzinfo=datetime.timezone.utc), '7rtflif6j4z69', 'kubernetes.pod.interaction', '73d8769a-2e9b-41c6-b03c-5386e66c6103'), {'user_interaction_awp': 0, 'logName': 1, 'user_combined': 2, 'project_id': 3, 'timestamp': 4, 'insertId': 5, 'action': 6, 'dsId': 7})\n",
            "Row(('User: jovyan, Hostname: user-1, Input: # Importiere die Funktion scanString\\nfrom detect_secrets.core.scan import scan_line\\n\\n# Beispiel-String\\ntest_string = \"This is a test string with a hardcoded password: my_secret_password\"\\n\\n# Überprüfe den String auf Credentials\\nresults = scan_line(test_string)\\n\\n# Drucke die Ergebnisse\\nif results:\\n    for secret_type, analysis_result in results:\\n        print(f\"Secret Type: {secret_type}, Analysis Result: {analysis_result}\")\\nelse:\\n    print(\"No secrets found.\")\\n\\n\\nprint(\"No secrets found.\")\\n    ', 'projects/db-dev-k0dy-pbawp-srh/logs/jn-logs', '', 'db-dev-k0dy-pbawp-srh', datetime.datetime(2025, 1, 27, 10, 33, 54, 709958, tzinfo=datetime.timezone.utc), '486ms8fk0vfkc', 'kubernetes.pod.interaction', '699055d0-46f6-4ac9-9b47-40cecbf41167'), {'user_interaction_awp': 0, 'logName': 1, 'user_combined': 2, 'project_id': 3, 'timestamp': 4, 'insertId': 5, 'action': 6, 'dsId': 7})\n",
            "Row(('User: jovyan, Hostname: user-1, Input: # Importiere die Funktion scanString\\nfrom detect_secrets.core.scan import scan_line\\n\\n# Beispiel-String\\ntest_string = \"This is a test string with a hardcoded password: my_secret_password\"\\n\\n# Überprüfe den String auf Credentials\\nresults = scan_line(test_string)\\n\\n# Drucke die Ergebnisse\\nif results:\\n    for secret_type, analysis_result in results:\\n        print(f\"Secret Type: {secret_type}, Analysis Result: {analysis_result}\")\\nelse:\\n    print(\"No secrets found.\")\\n\\n\\nprint(\"No sedasdcrets found.\")\\n    ', 'projects/db-dev-k0dy-pbawp-srh/logs/jn-logs', '', 'db-dev-k0dy-pbawp-srh', datetime.datetime(2025, 1, 27, 10, 33, 56, 908794, tzinfo=datetime.timezone.utc), '1lhx07pesvdav', 'kubernetes.pod.interaction', 'd3f6d2c2-910f-48b6-ab7e-5381f54a0ee0'), {'user_interaction_awp': 0, 'logName': 1, 'user_combined': 2, 'project_id': 3, 'timestamp': 4, 'insertId': 5, 'action': 6, 'dsId': 7})\n",
            "Row(('User: jovyan, Hostname: user-1, Input: # Importiere die Funktion scanString\\nfrom detect_secrets.core.scan import scan_line\\n\\n# Beispiel-String\\ntest_string = \"This is a test string with a hardcoded password: my_secret_password\"\\n\\n# Überprüfe den String auf Credentials\\nresults = scan_line(test_string)\\n\\n# Drucke die Ergebnisse\\nif results:\\n    for secret_type, analysis_result in results:\\n        print(f\"Secret Type: {secret_type}, Analysis Result: {analysis_result}\")\\nelse:\\n    print(\"No secrets found.\")\\n\\n\\nprint(results)\\n    ', 'projects/db-dev-k0dy-pbawp-srh/logs/jn-logs', '', 'db-dev-k0dy-pbawp-srh', datetime.datetime(2025, 1, 27, 10, 34, 8, 826414, tzinfo=datetime.timezone.utc), '1nfzjcvfjg8a2j', 'kubernetes.pod.interaction', 'ec28ee3b-f7c2-4c41-9633-60d9bd0c869c'), {'user_interaction_awp': 0, 'logName': 1, 'user_combined': 2, 'project_id': 3, 'timestamp': 4, 'insertId': 5, 'action': 6, 'dsId': 7})\n",
            "Row(('User: jovyan, Hostname: user-1, Input: # Installing from a local folder\\n!pip install ./detect-secrets-master', 'projects/db-dev-k0dy-pbawp-srh/logs/jn-logs', '', 'db-dev-k0dy-pbawp-srh', datetime.datetime(2025, 2, 3, 10, 14, 40, 590745, tzinfo=datetime.timezone.utc), '1jjvh3if11g9cw', 'kubernetes.pod.interaction', '00ae1c67-818f-47f2-ba6c-6ce60bfdaf73'), {'user_interaction_awp': 0, 'logName': 1, 'user_combined': 2, 'project_id': 3, 'timestamp': 4, 'insertId': 5, 'action': 6, 'dsId': 7})\n",
            "Row(('User: jovyan, Hostname: user-1, Input: # Python-Skript zum Entfernen von Zeilenumbrüchen\\ninput_string = \"\"\"\\nUser: jovyan, Hostname: user-2, Input: api2_key = {\\n    \"glossary\": {\\n        \"title\": \"example glossary\",\\n        \"GlossDiv\": {\\n            \"password\": \"S#sjdkskks_xnjsnjxw2342\",\\n            \"GlossList\": {\\n                \"GlossEntry\": {\\n                    \"ID\": \"SGML\",\\n                    \"SortAs\": \"SGML\",\\n                    \"GlossTerm\": \"Standard Generalized Markup Language\",\\n                    \"Acronym\": \"SGML\",\\n                    \"Abbrev\": \"ISO 8879:1986\",\\n                    \"GlossDef\": {\\n                        \"para\": \"A meta-markup language, used to create markup languages such as DocBook.\",\\n                        \"GlossSeeAlso\": [\"GML\", \"XML\"]\\n                    },\\n                    \"GlossSee\": \"markup\"\\n                }\\n            }\\n        }\\n    }\\n}\\n\"\"\"\\n\\n# Entferne Zeilenumbrüche und führende/nachfolgende Leerzeichen\\nprepared_string = input_string.replace(\\'\\\\n\\', \\'\\').strip()\\n\\n# Drucke den vorbereiteten String\\nprint(prepared_string)', 'projects/db-dev-k0dy-pbawp-srh/logs/jn-logs', '', 'db-dev-k0dy-pbawp-srh', datetime.datetime(2025, 1, 27, 12, 46, 31, 851962, tzinfo=datetime.timezone.utc), 'kkn0dsfjqh61c', 'kubernetes.pod.interaction', '7aa1a70e-91fa-40d4-9391-c469c4616890'), {'user_interaction_awp': 0, 'logName': 1, 'user_combined': 2, 'project_id': 3, 'timestamp': 4, 'insertId': 5, 'action': 6, 'dsId': 7})\n",
            "Row(('User: jovyan, Hostname: user-1, Input: # Python-Skript zum Entfernen von Zeilenumbrüchen\\ninput_string = \"\"\"\\nUser: jovyan, Hostname: user-2, Input: api2_key = {\\n    \"glossary\": {\\n        \"title\": \"example glossary\",\\n        \"GlossDiv\": {\\n            \"password\": \"S#sjdkskks_xnjsnjxw2342\",\\n            \"GlossList\": {\\n                \"GlossEntry\": {\\n                    \"ID\": \"SGML\",\\n                    \"SortAs\": \"SGML\",\\n                    \"GlossTerm\": \"Standard Generalized Markup Language\",\\n                    \"Acronym\": \"SGML\",\\n                    \"Abbrev\": \"ISO 8879:1986\",\\n                    \"GlossDef\": {\\n                        \"para\": \"A meta-markup language, used to create markup languages such as DocBook.\",\\n                        \"GlossSeeAlso\": [\"GML\", \"XML\"]\\n                    },\\n                    \"GlossSee\": \"markup\"\\n                }\\n            }\\n        }\\n    }\\n}\\n\"\"\"\\n\\n# Entferne Zeilenumbrüche und führende/nachfolgende Leerzeichen\\nprepared_string = input_string.replace(\\'\\\\n\\', \\'\\').strip()\\n\\n# Drucke den vorbereiteten String\\nprint(prepared_string)', 'projects/db-dev-k0dy-pbawp-srh/logs/jn-logs', '', 'db-dev-k0dy-pbawp-srh', datetime.datetime(2025, 1, 27, 12, 41, 41, 568774, tzinfo=datetime.timezone.utc), 's2a9bkfjj9uxx', 'kubernetes.pod.interaction', 'ebdafff1-ca7d-4953-a617-0505335ceee6'), {'user_interaction_awp': 0, 'logName': 1, 'user_combined': 2, 'project_id': 3, 'timestamp': 4, 'insertId': 5, 'action': 6, 'dsId': 7})\n",
            "Row(('User: jovyan, Hostname: user-1, Input: # Python-Skript zum Entfernen von Zeilenumbrüchen\\ninput_string = \"\"\"\\nUser: jovyan, Hostname: user-2, Input: api2_key = {\\n    \"glossary\": {\\n        \"title\": \"example glossary\",\\n        \"GlossDiv\": {\\n            \"password\": \"S#sjdkskks_xnjsnjxw2342\",\\n            \"GlossList\": {\\n                \"GlossEntry\": {\\n                    \"ID\": \"SGML\",\\n                    \"SortAs\": \"SGML\",\\n                    \"GlossTerm\": \"Standard Generalized Markup Language\",\\n                    \"Acronym\": \"SGML\",\\n                    \"Abbrev\": \"ISO 8879:1986\",\\n                    \"GlossDef\": {\\n                        \"para\": \"A meta-markup language, used to create markup languages such as DocBook.\",\\n                        \"GlossSeeAlso\": [\"GML\", \"XML\"]\\n                    },\\n                    \"GlossSee\": \"markup\"\\n                }\\n            }\\n        }\\n    }\\n}\\n\"\"\"\\n\\n# Entferne Zeilenumbrüche und führende/nachfolgende Leerzeichen\\nprepared_string = input_string.replace(\\'\\\\n\\', \\'\\').strip()\\n\\n# Drucke den vorbereiteten String\\nprint(prepared_string)\\n', 'projects/db-dev-k0dy-pbawp-srh/logs/jn-logs', '', 'db-dev-k0dy-pbawp-srh', datetime.datetime(2025, 1, 27, 12, 41, 21, 697221, tzinfo=datetime.timezone.utc), '16r3jigf3kl415', 'kubernetes.pod.interaction', 'ada9b561-4622-4fa7-9942-a8d7fa85bae5'), {'user_interaction_awp': 0, 'logName': 1, 'user_combined': 2, 'project_id': 3, 'timestamp': 4, 'insertId': 5, 'action': 6, 'dsId': 7})\n",
            "Row(('User: jovyan, Hostname: user-1, Input: from detect_secrets import main\\nfrom detect_secrets.settings import default_settings\\n\\n\\nstring= \"\"\"User: jovyan, Hostname: user-2, Input: api2_key = {\\n    \"glossary\": {\\n        \"title\": \"example glossary\",\\n\\t\\t\"GlossDiv\": {\\n            \"password\": \"S#sjdkskks_xnjsnjxw2342\",\\n\\t\\t\\t\"GlossList\": {\\n                \"GlossEntry\": {\\n                    \"ID\": \"SGML\",\\n\\t\\t\\t\\t\\t\"SortAs\": \"SGML\",\\n\\t\\t\\t\\t\\t\"GlossTerm\": \"Standard Generalized Markup Language\",\\n\\t\\t\\t\\t\\t\"Acronym\": \"SGML\",\\n\\t\\t\\t\\t\\t\"Abbrev\": \"ISO 8879:1986\",\\n\\t\\t\\t\\t\\t\"GlossDef\": {\\n                        \"para\": \"A meta-markup language, used to create markup languages such as DocBook.\",\\n\\t\\t\\t\\t\\t\\t\"GlossSeeAlso\": [\"GML\", \"XML\"]\\n                    },\\n\\t\\t\\t\\t\\t\"GlossSee\": \"markup\"\\n                }\\n            }\\n        }\\n    }\\n}\"\"\"\\n\\n\\n\\nwith default_settings():\\n    result = scan_adhoc_string(string)\\n    print(result)', 'projects/db-dev-k0dy-pbawp-srh/logs/jn-logs', '', 'db-dev-k0dy-pbawp-srh', datetime.datetime(2025, 1, 27, 14, 2, 27, 89346, tzinfo=datetime.timezone.utc), 'rrsnuifkm63ta', 'kubernetes.pod.interaction', '1818adc0-a7ac-4559-9d2e-2b3174143da6'), {'user_interaction_awp': 0, 'logName': 1, 'user_combined': 2, 'project_id': 3, 'timestamp': 4, 'insertId': 5, 'action': 6, 'dsId': 7})\n",
            "Row(('User: jovyan, Hostname: user-1, Input: from detect_secrets import main\\nfrom detect_secrets.settings import default_settings\\n\\n\\nstring= \"\"\"User: jovyan, Hostname: user-2, Input: api2_key = {\\n    \"glossary\": {\\n        \"title\": \"example glossary\",\\n\\t\\t\"GlossDiv\": {\\n            \"password\": \"S#sjdkskks_xnjsnjxw2342\",\\n\\t\\t\\t\"GlossList\": {\\n                \"GlossEntry\": {\\n                    \"ID\": \"SGML\",\\n\\t\\t\\t\\t\\t\"SortAs\": \"SGML\",\\n\\t\\t\\t\\t\\t\"GlossTerm\": \"Standard Generalized Markup Language\",\\n\\t\\t\\t\\t\\t\"Acronym\": \"SGML\",\\n\\t\\t\\t\\t\\t\"Abbrev\": \"ISO 8879:1986\",\\n\\t\\t\\t\\t\\t\"GlossDef\": {\\n                        \"para\": \"A meta-markup language, used to create markup languages such as DocBook.\",\\n\\t\\t\\t\\t\\t\\t\"GlossSeeAlso\": [\"GML\", \"XML\"]\\n                    },\\n\\t\\t\\t\\t\\t\"GlossSee\": \"markup\"\\n                }\\n            }\\n        }\\n    }\\n}\"\"\"\\n\\n\\nwith default_settings():\\n    result = scan_adhoc_string(string)\\n    print(result)', 'projects/db-dev-k0dy-pbawp-srh/logs/jn-logs', '', 'db-dev-k0dy-pbawp-srh', datetime.datetime(2025, 1, 27, 14, 29, 13, 689447, tzinfo=datetime.timezone.utc), 'ub058of4hr6f5', 'kubernetes.pod.interaction', '09739a90-9132-4020-afe9-baf924534087'), {'user_interaction_awp': 0, 'logName': 1, 'user_combined': 2, 'project_id': 3, 'timestamp': 4, 'insertId': 5, 'action': 6, 'dsId': 7})\n",
            "Row(('User: jovyan, Hostname: user-1, Input: from detect_secrets import main\\nfrom detect_secrets.settings import default_settings\\n\\n\\nstring= \"\"\"User: jovyan, Hostname: user-2, Input: api2_key = {\\n    \"glossary\": {\\n        \"title\": \"example glossary\",\\n\\t\\t\"GlossDiv\": {\\n            \"pwd\": \"S#sjdkskks_xnjsnjxw2342\",\\n\\t\\t\\t\"GlossList\": {\\n                \"GlossEntry\": {\\n                    \"ID\": \"SGML\",\\n\\t\\t\\t\\t\\t\"SortAs\": \"SGML\",\\n\\t\\t\\t\\t\\t\"GlossTerm\": \"Standard Generalized Markup Language\",\\n\\t\\t\\t\\t\\t\"Acronym\": \"SGML\",\\n\\t\\t\\t\\t\\t\"Abbrev\": \"ISO 8879:1986\",\\n\\t\\t\\t\\t\\t\"GlossDef\": {\\n                        \"para\": \"A meta-markup language, used to create markup languages such as DocBook.\",\\n\\t\\t\\t\\t\\t\\t\"GlossSeeAlso\": [\"GML\", \"XML\"]\\n                    },\\n\\t\\t\\t\\t\\t\"GlossSee\": \"markup\"\\n                }\\n            }\\n        }\\n    }\\n}\"\"\"\\n\\n\\n\\nwith default_settings():\\n    result = scan_adhoc_string(string)\\n    print(result)', 'projects/db-dev-k0dy-pbawp-srh/logs/jn-logs', '', 'db-dev-k0dy-pbawp-srh', datetime.datetime(2025, 1, 27, 14, 2, 43, 124657, tzinfo=datetime.timezone.utc), '1xxi630e1snit', 'kubernetes.pod.interaction', '24d4802e-7c47-40ca-8ef0-2fbbb90c2d6e'), {'user_interaction_awp': 0, 'logName': 1, 'user_combined': 2, 'project_id': 3, 'timestamp': 4, 'insertId': 5, 'action': 6, 'dsId': 7})\n",
            "Row(('User: jovyan, Hostname: user-1, Input: from detect_secrets import main\\nfrom detect_secrets.settings import default_settings\\n\\n\\nstring= \"\"\"User: jovyan, Hostname: user-2, Input: api2_key = {\\n    \"glossary\": {\\n        \"title\": \"example glossary\",\\n\\t\\t\"GlossDiv\": {\\n            \"pwd\": \"S#sjdkskks_xnjsnjxw2342\",\\n\\t\\t\\t\"GlossList\": {\\n                \"GlossEntry\": {\\n                    \"ID\": \"SGML\",\\n\\t\\t\\t\\t\\t\"SortAs\": \"SGML\",\\n\\t\\t\\t\\t\\t\"GlossTerm\": \"Standard Generalized Markup Language\",\\n\\t\\t\\t\\t\\t\"Acronym\": \"SGML\",\\n\\t\\t\\t\\t\\t\"Abbrev\": \"ISO 8879:1986\",\\n\\t\\t\\t\\t\\t\"GlossDef\": {\\n                        \"para\": \"A meta-markup language, used to create markup languages such as DocBook.\",\\n\\t\\t\\t\\t\\t\\t\"GlossSeeAlso\": [\"GML\", \"XML\"]\\n                    },\\n\\t\\t\\t\\t\\t\"GlossSee\": \"markup\"\\n                }\\n            }\\n        }\\n    }\\n}\"\"\"\\n\\n\\n\\nwith default_settings():\\n    result = scan_adhoc_string(string)\\n    print(result)', 'projects/db-dev-k0dy-pbawp-srh/logs/jn-logs', '', 'db-dev-k0dy-pbawp-srh', datetime.datetime(2025, 1, 27, 14, 2, 54, 156746, tzinfo=datetime.timezone.utc), 'vxg1m4fkbh46u', 'kubernetes.pod.interaction', '260d1b0c-711e-44bd-9339-7cb144d5ec48'), {'user_interaction_awp': 0, 'logName': 1, 'user_combined': 2, 'project_id': 3, 'timestamp': 4, 'insertId': 5, 'action': 6, 'dsId': 7})\n",
            "Row(('User: jovyan, Hostname: user-1, Input: from detect_secrets import main\\nfrom detect_secrets.settings import default_settings\\n\\n\\nstring= \"\"\"User: jovyan, Hostname: user-2, Input: api2_key = {\\n    \"glossary\": {\\n        \"title\": \"example glossary\",\\n\\t\\t\"GlossDiv\": {\\n            \"pwd\": \"S#sjdkskks_xnjsnjxw2342\",\\n\\t\\t\\t\"GlossList\": {\\n                \"GlossEntry\": {\\n                    \"ID\": \"SGML\",\\n\\t\\t\\t\\t\\t\"SortAs\": \"SGML\",\\n\\t\\t\\t\\t\\t\"GlossTerm\": \"Standard Generalized Markup Language\",\\n\\t\\t\\t\\t\\t\"Acronym\": \"SGML\",\\n\\t\\t\\t\\t\\t\"Abbrev\": \"ISO 8879:1986\",\\n\\t\\t\\t\\t\\t\"GlossDef\": {\\n                        \"para\": \"A meta-markup language, used to create markup languages such as DocBook.\",\\n\\t\\t\\t\\t\\t\\t\"GlossSeeAlso\": [\"GML\", \"XML\"]\\n                    },\\n\\t\\t\\t\\t\\t\"GlossSee\": \"markup\"\\n                }\\n            }\\n        }\\n    }\\n}\"\"\"\\n\\n\\nwith default_settings():\\n    result = scan_adhoc_string(string)\\n    print(result)', 'projects/db-dev-k0dy-pbawp-srh/logs/jn-logs', '', 'db-dev-k0dy-pbawp-srh', datetime.datetime(2025, 1, 27, 14, 27, 29, 388054, tzinfo=datetime.timezone.utc), '4ghe1lfjxwu72', 'kubernetes.pod.interaction', '1067b962-1dca-42e4-8c9e-7f5ad0455e80'), {'user_interaction_awp': 0, 'logName': 1, 'user_combined': 2, 'project_id': 3, 'timestamp': 4, 'insertId': 5, 'action': 6, 'dsId': 7})\n",
            "Row(('User: jovyan, Hostname: user-1, Input: from detect_secrets import main\\nfrom detect_secrets.settings import default_settings\\n\\n\\nstring= \"\"\"User: jovyan, Hostname: user-2, Input: api2_key = {\\n    \"glossary\": {\\n        \"title\": \"example glossary\",\\n\\t\\t\"password\": {\\n            \"password\": \"S#sjdkskks_xnjsnjxw2342\",\\n\\t\\t\\t\"GlossList\": {\\n                \"GlossEntry\": {\\n                    \"ID\": \"SGML\",\\n\\t\\t\\t\\t\\t\"SortAs\": \"SGML\",\\n\\t\\t\\t\\t\\t\"GlossTerm\": \"Standard Generalized Markup Language\",\\n\\t\\t\\t\\t\\t\"Acronym\": \"SGML\",\\n\\t\\t\\t\\t\\t\"Abbrev\": \"ISO 8879:1986\",\\n\\t\\t\\t\\t\\t\"GlossDef\": {\\n                        \"para\": \"A meta-markup language, used to create markup languages such as DocBook.\",\\n\\t\\t\\t\\t\\t\\t\"GlossSeeAlso\": [\"GML\", \"XML\"]\\n                    },\\n\\t\\t\\t\\t\\t\"GlossSee\": \"markup\"\\n                }\\n            }\\n        }\\n    }\\n}\"\"\"\\n\\n\\nwith default_settings():\\n    result = scan_adhoc_string(string)\\n    print(result)', 'projects/db-dev-k0dy-pbawp-srh/logs/jn-logs', '', 'db-dev-k0dy-pbawp-srh', datetime.datetime(2025, 1, 27, 14, 28, 56, 707711, tzinfo=datetime.timezone.utc), '1q5jogdf8z2xgj', 'kubernetes.pod.interaction', '71bf35b4-13cf-432d-9ee4-09e136866311'), {'user_interaction_awp': 0, 'logName': 1, 'user_combined': 2, 'project_id': 3, 'timestamp': 4, 'insertId': 5, 'action': 6, 'dsId': 7})\n",
            "Row(('User: jovyan, Hostname: user-1, Input: from detect_secrets import main\\nfrom detect_secrets.settings import default_settings\\n\\n\\nstring= \"\"\"User: jovyan, Hostname: user-2, Input: api_key= {\\n    \"glossary\": {\\n        \"title\": \"example glossary\",\\n\\t\\t\"GlossDiv\": {\\n            \"title\": \"S\",\\n\\t\\t\\t\"GlossList\": {\\n                \"GlossEntry\": {\\n                    \"ID\": \"SGML\",\\n\\t\\t\\t\\t\\t\"SortAs\": \"SGML\",\\n\\t\\t\\t\\t\\t\"GlossTerm\": \"Standard Generalized Markup Language\",\\n\\t\\t\\t\\t\\t\"Acronym\": \"SGML\",\\n\\t\\t\\t\\t\\t\"Abbrev\": \"ISO 8879:1986\",\\n\\t\\t\\t\\t\\t\"GlossDef\": {\\n                        \"para\": \"A meta-markup language, used to create markup languages such as DocBook.\",\\n\\t\\t\\t\\t\\t\\t\"GlossSeeAlso\": [\"GML\", \"XML\"]\\n                    },\\n\\t\\t\\t\\t\\t\"GlossSee\": \"markup\"\\n                    password = \"fasdfs\"\\n                }\\n            }\\n        }\\n    }\\n}\"\"\"\\n\\n\\nwith default_settings():\\n    result = scan_adhoc_string(string)\\n    print(result)', 'projects/db-dev-k0dy-pbawp-srh/logs/jn-logs', '', 'db-dev-k0dy-pbawp-srh', datetime.datetime(2025, 1, 27, 14, 29, 50, 639636, tzinfo=datetime.timezone.utc), '153uur4fk1b1q8', 'kubernetes.pod.interaction', '6dd369c2-7fb2-4d40-a3be-431936839133'), {'user_interaction_awp': 0, 'logName': 1, 'user_combined': 2, 'project_id': 3, 'timestamp': 4, 'insertId': 5, 'action': 6, 'dsId': 7})\n",
            "Row(('User: jovyan, Hostname: user-1, Input: from detect_secrets import main\\nfrom detect_secrets.settings import default_settings\\n\\n\\nstring= \"\"\"User: jovyan, Hostname: user-2, Input: api_key= {\\n    \"glossary\": {\\n        \"title\": \"example glossary\",\\n\\t\\t\"GlossDiv\": {\\n            \"title\": \"S\",\\n\\t\\t\\t\"GlossList\": {\\n                \"GlossEntry\": {\\n                    \"ID\": \"SGML\",\\n\\t\\t\\t\\t\\t\"SortAs\": \"SGML\",\\n\\t\\t\\t\\t\\t\"GlossTerm\": \"Standard Generalized Markup Language\",\\n\\t\\t\\t\\t\\t\"Acronym\": \"SGML\",\\n\\t\\t\\t\\t\\t\"Abbrev\": \"ISO 8879:1986\",\\n\\t\\t\\t\\t\\t\"GlossDef\": {\\n                        \"para\": \"A meta-markup language, used to create markup languages such as DocBook.\",\\n\\t\\t\\t\\t\\t\\t\"GlossSeeAlso\": [\"GML\", \"XML\"]\\n                    },\\n\\t\\t\\t\\t\\t\"GlossSee\": \"markup\"\\n                    password = fasdfs\\n                }\\n            }\\n        }\\n    }\\n}\"\"\"\\n\\n\\nwith default_settings():\\n    result = scan_adhoc_string(string)\\n    print(result)', 'projects/db-dev-k0dy-pbawp-srh/logs/jn-logs', '', 'db-dev-k0dy-pbawp-srh', datetime.datetime(2025, 1, 27, 14, 29, 45, 594509, tzinfo=datetime.timezone.utc), '3n2l41fjr2s62', 'kubernetes.pod.interaction', 'a23eefbf-4d1d-441e-86aa-0aabb5abe15d'), {'user_interaction_awp': 0, 'logName': 1, 'user_combined': 2, 'project_id': 3, 'timestamp': 4, 'insertId': 5, 'action': 6, 'dsId': 7})\n",
            "Row(('User: jovyan, Hostname: user-1, Input: from detect_secrets import main\\nfrom detect_secrets.settings import default_settings\\n\\n\\nstring= \"User: jovyan, Hostname: user-2, Input: api2_key = {\\n    \"glossary\": {\\n        \"title\": \"example glossary\",\\n\\t\\t\"GlossDiv\": {\\n            \"password\": \"S#sjdkskks_xnjsnjxw2342\",\\n\\t\\t\\t\"GlossList\": {\\n                \"GlossEntry\": {\\n                    \"ID\": \"SGML\",\\n\\t\\t\\t\\t\\t\"SortAs\": \"SGML\",\\n\\t\\t\\t\\t\\t\"GlossTerm\": \"Standard Generalized Markup Language\",\\n\\t\\t\\t\\t\\t\"Acronym\": \"SGML\",\\n\\t\\t\\t\\t\\t\"Abbrev\": \"ISO 8879:1986\",\\n\\t\\t\\t\\t\\t\"GlossDef\": {\\n                        \"para\": \"A meta-markup language, used to create markup languages such as DocBook.\",\\n\\t\\t\\t\\t\\t\\t\"GlossSeeAlso\": [\"GML\", \"XML\"]\\n                    },\\n\\t\\t\\t\\t\\t\"GlossSee\": \"markup\"\\n                }\\n            }\\n        }\\n    }\\n}\"\\n\\n\\n\\nwith default_settings():\\n    result = scan_adhoc_string(string)\\n    print(result)', 'projects/db-dev-k0dy-pbawp-srh/logs/jn-logs', '', 'db-dev-k0dy-pbawp-srh', datetime.datetime(2025, 1, 27, 14, 2, 20, 307496, tzinfo=datetime.timezone.utc), '1kn9olee1tojb', 'kubernetes.pod.interaction', 'aacaa1d8-6d71-41ed-a7d1-7fa468a35a81'), {'user_interaction_awp': 0, 'logName': 1, 'user_combined': 2, 'project_id': 3, 'timestamp': 4, 'insertId': 5, 'action': 6, 'dsId': 7})\n",
            "Row(('User: jovyan, Hostname: user-1, Input: from detect_secrets import main\\nfrom detect_secrets.settings import default_settings\\n\\n\\nstring=\\'User: jovyan, Hostname: user-2, Input: api2_key = {\"glossary\": {\"title\": \"example glossary\",\"GlossDiv\": {\"password\": \"S#sjdkskks_xnjsnjxw2342\",\"GlossList\": {\"GlossEntry\": {\"ID\": \"SGML\",\"SortAs\": \"SGML\",\"GlossTerm\": \"Standard Generalized Markup Language\",\"Acronym\": \"SGML\",\"Abbrev\": \"ISO 8879:1986\",\"GlossDef\": {\"para\": \"A meta-markup language, used to create markup languages such as DocBook.\",\"GlossSeeAlso\": [\"GML\", \"XML\"]},\"GlossSee\": \"markup\"}}}}}\\'\\n\\nwith default_settings():\\n\\n    result = scan_adhoc_string(string)\\n    print(result)', 'projects/db-dev-k0dy-pbawp-srh/logs/jn-logs', '', 'db-dev-k0dy-pbawp-srh', datetime.datetime(2025, 1, 27, 13, 42, 28, 589635, tzinfo=datetime.timezone.utc), '1b7p025f3vl6uy', 'kubernetes.pod.interaction', '0add46d3-b7f5-413b-87b7-6c35d6c1e9a4'), {'user_interaction_awp': 0, 'logName': 1, 'user_combined': 2, 'project_id': 3, 'timestamp': 4, 'insertId': 5, 'action': 6, 'dsId': 7})\n",
            "Row(('User: jovyan, Hostname: user-1, Input: from detect_secrets import main\\nfrom detect_secrets.settings import default_settings\\n\\n\\nstring=\\'User: jovyan, Hostname: user-2, Input: api2_key = {\"glossary\": {\"title\": \"example glossary\",\"GlossDiv\": {\"password\": \"S#sjdkskks_xnjsnjxw2342\",\"GlossList\": {\"GlossEntry\": {\"ID\": \"SGML\",\"SortAs\": \"SGML\",\"GlossTerm\": \"Standard Generalized Markup Language\",\"Acronym\": \"SGML\",\"Abbrev\": \"ISO 8879:1986\",\"GlossDef\": {\"para\": \"A meta-markup language, used to create markup languages such as DocBook.\",\"GlossSeeAlso\": [\"GML\", \"XML\"]},\"GlossSee\": \"markup\"}}}}}\\'\\n\\nwith default_settings():\\n    result = scan_adhoc_string(string)\\n\\n\\nimport json\\nprint(json.dumps(result.json(), indent=2))    ', 'projects/db-dev-k0dy-pbawp-srh/logs/jn-logs', '', 'db-dev-k0dy-pbawp-srh', datetime.datetime(2025, 1, 27, 13, 54, 27, 550662, tzinfo=datetime.timezone.utc), 'egtgv6f4gs7ri', 'kubernetes.pod.interaction', '0df22f73-dc9b-4e01-8063-697e9734fed0'), {'user_interaction_awp': 0, 'logName': 1, 'user_combined': 2, 'project_id': 3, 'timestamp': 4, 'insertId': 5, 'action': 6, 'dsId': 7})\n",
            "Row(('User: jovyan, Hostname: user-1, Input: from detect_secrets import main\\nfrom detect_secrets.settings import default_settings\\n\\n\\nstring=\\'User: jovyan, Hostname: user-2, Input: api2_key = {\"glossary\": {\"title\": \"example glossary\",\"GlossDiv\": {\"password\": \"S#sjdkskks_xnjsnjxw2342\",\"GlossList\": {\"GlossEntry\": {\"ID\": \"SGML\",\"SortAs\": \"SGML\",\"GlossTerm\": \"Standard Generalized Markup Language\",\"Acronym\": \"SGML\",\"Abbrev\": \"ISO 8879:1986\",\"GlossDef\": {\"para\": \"A meta-markup language, used to create markup languages such as DocBook.\",\"GlossSeeAlso\": [\"GML\", \"XML\"]},\"GlossSee\": \"markup\"}}}}}\\'\\n\\nwith default_settings():\\n    result = scan_adhoc_string(string)\\n\\n\\nimport json\\nprint(json.dumps(result.json(), indent=2))    ', 'projects/db-dev-k0dy-pbawp-srh/logs/jn-logs', '', 'db-dev-k0dy-pbawp-srh', datetime.datetime(2025, 1, 27, 13, 54, 41, 886077, tzinfo=datetime.timezone.utc), '1ei1hcxf3k5k5e', 'kubernetes.pod.interaction', '9e7b4cc7-1659-4bea-8dbf-02fe7ac057b5'), {'user_interaction_awp': 0, 'logName': 1, 'user_combined': 2, 'project_id': 3, 'timestamp': 4, 'insertId': 5, 'action': 6, 'dsId': 7})\n",
            "Row(('User: jovyan, Hostname: user-1, Input: from detect_secrets import main\\nfrom detect_secrets.settings import default_settings\\n\\n\\nstring=\\'User: jovyan, Hostname: user-2, Input: api2_key = {\"glossary\": {\"title\": \"example glossary\",\"GlossDiv\": {\"password\": \"S#sjdkskks_xnjsnjxw2342\",\"GlossList\": {\"GlossEntry\": {\"ID\": \"SGML\",\"SortAs\": \"SGML\",\"GlossTerm\": \"Standard Generalized Markup Language\",\"Acronym\": \"SGML\",\"Abbrev\": \"ISO 8879:1986\",\"GlossDef\": {\"para\": \"A meta-markup language, used to create markup languages such as DocBook.\",\"GlossSeeAlso\": [\"GML\", \"XML\"]},\"GlossSee\": \"markup\"}}}}}\\'\\n\\nwith default_settings():\\n    result = scan_adhoc_string(string)\\n\\n\\nimport json\\nprint(json.dumps(secrets.json(), indent=2))    ', 'projects/db-dev-k0dy-pbawp-srh/logs/jn-logs', '', 'db-dev-k0dy-pbawp-srh', datetime.datetime(2025, 1, 27, 13, 54, 21, 746237, tzinfo=datetime.timezone.utc), '1plfe3e1dsjk', 'kubernetes.pod.interaction', '69cd442a-0c9c-495b-9da2-d94989cc1105'), {'user_interaction_awp': 0, 'logName': 1, 'user_combined': 2, 'project_id': 3, 'timestamp': 4, 'insertId': 5, 'action': 6, 'dsId': 7})\n",
            "Row(('User: jovyan, Hostname: user-1, Input: from google.cloud import bigquery\\nimport re\\nfrom detect_secrets import main\\nfrom detect_secrets.settings import default_settings\\n\\ncode = \"\"\"# Database\\n# https://docs.djangoproject.com/en/1.11/ref/settings/#databases\\nDATABASES = {\\n\\'default\\': {\\n# \\'ENGINE\\': \\'django.db.backends.sqlite3\\',\\n# \\'NAME\\': os.path.join(BASE_DIR, \\'db.sqlite3\\')\\n\\'ENGINE\\': \\'django.db.backends.mysql\\',\\n\\'NAME\\': \\'store\\',\\n\\'USER\\': \\'root\\',\\n\\'PASSWORD\\': \\'dasa2312AD11!!\\',\\n\\'HOST\\': \\'database\\',\\n\\'PORT\\': \\'3306\\',\\n}\"\\n\"\"\"\\nwith default_settings():\\n    result = main.scan_adhoc_string(code)\\n    print(result)', 'projects/db-dev-k0dy-pbawp-srh/logs/jn-logs', '', 'db-dev-k0dy-pbawp-srh', datetime.datetime(2025, 1, 30, 9, 4, 53, 119318, tzinfo=datetime.timezone.utc), 'alhiykf1fl6yu', 'kubernetes.pod.interaction', '22a4ed8a-2707-4213-8a04-70bdf07a5f1b'), {'user_interaction_awp': 0, 'logName': 1, 'user_combined': 2, 'project_id': 3, 'timestamp': 4, 'insertId': 5, 'action': 6, 'dsId': 7})\n",
            "Row(('User: jovyan, Hostname: user-1, Input: from google.cloud import bigquery\\nimport re\\nfrom detect_secrets import main\\nfrom detect_secrets.settings import default_settings\\n\\ncode = \"\"\"# Database\\n# https://docs.djangoproject.com/en/1.11/ref/settings/#databases\\nDATABASES = {\\n\\'default\\': {\\n# \\'ENGINE\\': \\'django.db.backends.sqlite3\\',\\n# \\'NAME\\': os.path.join(BASE_DIR, \\'db.sqlite3\\')\\n\\'ENGINE\\': \\'django.db.backends.mysql\\',\\n\\'NAME\\': \\'store\\',\\n\\'USER\\': \\'root\\',\\n\\'PASSWORD\\': \\'dasa2312AD11!!\\',\\n\\'HOST\\': \\'database\\',\\n\\'PORT\\': \\'3306\\',\\n}\"\\n\"\"\"\\nwith default_settings():\\n    result = main.scan_adhoc_string(code)\\n    print(result)', 'projects/db-dev-k0dy-pbawp-srh/logs/jn-logs', '', 'db-dev-k0dy-pbawp-srh', datetime.datetime(2025, 1, 30, 9, 10, 54, 964513, tzinfo=datetime.timezone.utc), 'iwztjgf20005r', 'kubernetes.pod.interaction', '2497de20-03b6-4cf3-848f-405eead85736'), {'user_interaction_awp': 0, 'logName': 1, 'user_combined': 2, 'project_id': 3, 'timestamp': 4, 'insertId': 5, 'action': 6, 'dsId': 7})\n",
            "Row(('User: jovyan, Hostname: user-1, Input: ls /home/jovyan/.local/bin/\\n\\nfrom google.cloud import bigquery\\nimport re\\nfrom detect_secrets import main\\nfrom detect_secrets.settings import default_settings\\n\\ncode = \"\"\"# Database\\n# https://docs.djangoproject.com/en/1.11/ref/settings/#databases\\nDATABASES = {\\n\\'default\\': {\\n# \\'ENGINE\\': \\'django.db.backends.sqlite3\\',\\n# \\'NAME\\': os.path.join(BASE_DIR, \\'db.sqlite3\\')\\n\\'ENGINE\\': \\'django.db.backends.mysql\\',\\n\\'NAME\\': \\'store\\',\\n\\'USER\\': \\'root\\',\\n\\'PASSWORD\\': \\'dasa2312AD11!!\\',\\n\\'HOST\\': \\'database\\',\\n\\'PORT\\': \\'3306\\',\\n}\"\\n\"\"\"\\nwith default_settings():\\n    result = main.scan_adhoc_string(code)\\n    print(result)', 'projects/db-dev-k0dy-pbawp-srh/logs/jn-logs', '', 'db-dev-k0dy-pbawp-srh', datetime.datetime(2025, 1, 30, 9, 5, 7, 280522, tzinfo=datetime.timezone.utc), 'x1rarzf20p25z', 'kubernetes.pod.interaction', 'df0c9d0d-3861-49dd-84a1-9134cd912e9b'), {'user_interaction_awp': 0, 'logName': 1, 'user_combined': 2, 'project_id': 3, 'timestamp': 4, 'insertId': 5, 'action': 6, 'dsId': 7})\n",
            "Row(('User: jovyan, Hostname: user-1, Input: pip install /awp/work/user-1/detect-secrets-master', 'projects/db-dev-k0dy-pbawp-srh/logs/jn-logs', '', 'db-dev-k0dy-pbawp-srh', datetime.datetime(2025, 1, 27, 10, 12, 16, 82486, tzinfo=datetime.timezone.utc), '10eb6r5fkt7wr1', 'kubernetes.pod.interaction', '8b4d1729-a015-467c-81c6-644e571b7ec5'), {'user_interaction_awp': 0, 'logName': 1, 'user_combined': 2, 'project_id': 3, 'timestamp': 4, 'insertId': 5, 'action': 6, 'dsId': 7})\n",
            "Row(('User: jovyan, Hostname: user-1, Input: pip install /awp/work/user-1/detect-secrets-master', 'projects/db-dev-k0dy-pbawp-srh/logs/jn-logs', '', 'db-dev-k0dy-pbawp-srh', datetime.datetime(2025, 1, 27, 10, 10, 57, 86197, tzinfo=datetime.timezone.utc), '1un8u0nfjzibuk', 'kubernetes.pod.interaction', 'a3559816-f71b-4963-8d71-38690b17dddc'), {'user_interaction_awp': 0, 'logName': 1, 'user_combined': 2, 'project_id': 3, 'timestamp': 4, 'insertId': 5, 'action': 6, 'dsId': 7})\n",
            "Row(('User: jovyan, Hostname: user-1, Input: pip install /detect-secrets-master', 'projects/db-dev-k0dy-pbawp-srh/logs/jn-logs', '', 'db-dev-k0dy-pbawp-srh', datetime.datetime(2025, 2, 3, 13, 53, 46, 691979, tzinfo=datetime.timezone.utc), 'wrn4gff1cbzwv', 'kubernetes.pod.interaction', 'd518cf99-208d-4d8c-8ae4-ee080d5d702f'), {'user_interaction_awp': 0, 'logName': 1, 'user_combined': 2, 'project_id': 3, 'timestamp': 4, 'insertId': 5, 'action': 6, 'dsId': 7})\n",
            "Row(('User: jovyan, Hostname: user-4, Input: def access_secret_version(secret_id, version_id=\"latest\"):\\n    # Create the Secret Manager client.\\n    client = secretmanager.SecretManagerServiceClient()\\n\\n    # Build the resource name of the secret version.\\n    name = f\"projects/1013472837892/secrets/{secret_id}/versions/{version_id}\"\\n\\n    # Access the secret version.\\n    response = client.access_secret_version(name=name)\\n    secret = response.payload.data\\n\\n    # Return the decoded payload.\\n    return \"\\'\"+secret+\"\\'\"', 'projects/db-dev-k0dy-pbawp-srh/logs/jn-logs', '', 'db-dev-k0dy-pbawp-srh', datetime.datetime(2025, 1, 29, 11, 3, 21, 306445, tzinfo=datetime.timezone.utc), 'x0zt2eenh6k6', 'kubernetes.pod.interaction', '9b712b67-9cae-4c06-a9b5-aac8656f418d'), {'user_interaction_awp': 0, 'logName': 1, 'user_combined': 2, 'project_id': 3, 'timestamp': 4, 'insertId': 5, 'action': 6, 'dsId': 7})\n",
            "Row(('User: jovyan, Hostname: user-4, Input: def access_secret_version(secret_id, version_id=\"latest\"):\\n    # Create the Secret Manager client.\\n    client = secretmanager.SecretManagerServiceClient()\\n\\n    # Build the resource name of the secret version.\\n    name = f\"projects/1066238993683/secrets/{secret_id}/versions/{version_id}\"\\n\\n    # Access the secret version.\\n    response = client.access_secret_version(name=name)\\n    secret = response.payload.data\\n\\n    # Return the decoded payload.\\n    return \"\\'\"+secret+\"\\'\"', 'projects/db-dev-k0dy-pbawp-srh/logs/jn-logs', '', 'db-dev-k0dy-pbawp-srh', datetime.datetime(2025, 1, 29, 11, 4, 4, 729874, tzinfo=datetime.timezone.utc), '149zeykeng5fy', 'kubernetes.pod.interaction', '59dc61b2-0c7b-4478-9fc4-0411f6c701fc'), {'user_interaction_awp': 0, 'logName': 1, 'user_combined': 2, 'project_id': 3, 'timestamp': 4, 'insertId': 5, 'action': 6, 'dsId': 7})\n"
          ]
        }
      ],
      "source": [
        "# Correct SQL with backticks\n",
        "query = \"\"\"\n",
        "SELECT *\n",
        "FROM `fraud-459711.fraud_dataset.fraud_data`\n",
        "LIMIT 50\n",
        "\"\"\"\n",
        "\n",
        "# Run the query and get an iterator over the rows\n",
        "query_job = client.query(query)\n",
        "\n",
        "# Get results\n",
        "results = query_job.result()  # Waits for job to complete\n",
        "\n",
        "for row in results:\n",
        "    print(row)\n"
      ]
    },
    {
      "cell_type": "code",
      "execution_count": null,
      "id": "f9a235ce-0346-4427-9be6-91bcf91bfd81",
      "metadata": {
        "tags": [],
        "id": "f9a235ce-0346-4427-9be6-91bcf91bfd81",
        "outputId": "f38c9640-c8c0-4c38-8877-75870c222eeb"
      },
      "outputs": [
        {
          "name": "stdout",
          "output_type": "stream",
          "text": [
            "['user_interaction_awp', 'logName', 'user_combined', 'project_id', 'timestamp', 'insertId', 'action', 'dsId']\n",
            "user_interaction_awp (STRING)\n",
            "logName (STRING)\n",
            "user_combined (STRING)\n",
            "project_id (STRING)\n",
            "timestamp (TIMESTAMP)\n",
            "insertId (STRING)\n",
            "action (STRING)\n",
            "dsId (STRING)\n"
          ]
        }
      ],
      "source": [
        "from google.cloud import bigquery\n",
        "\n",
        "# Create a client\n",
        "client = bigquery.Client()\n",
        "\n",
        "# Reference the table\n",
        "table_ref = client.get_table(\"fraud-459711.fraud_dataset.fraud_data\")\n",
        "\n",
        "# Print all column names\n",
        "column_names = [schema_field.name for schema_field in table_ref.schema]\n",
        "print(column_names)\n",
        "\n",
        "for field in table_ref.schema:\n",
        "    print(f\"{field.name} ({field.field_type})\")"
      ]
    },
    {
      "cell_type": "code",
      "execution_count": null,
      "id": "4628a06f-6a9e-429a-92af-5faa44a02c4a",
      "metadata": {
        "tags": [],
        "id": "4628a06f-6a9e-429a-92af-5faa44a02c4a",
        "outputId": "738b3e9a-cded-42b7-db3b-9db1d3a61467"
      },
      "outputs": [
        {
          "name": "stdout",
          "output_type": "stream",
          "text": [
            "🔍 Suspicious pip installs with archive formats:\n",
            "\n",
            "insertId: vn3lhgfkjyn7t\n",
            "insertId: 12bq7bgf1ybo2h\n",
            "insertId: 18edk33fm81dcb\n",
            "insertId: ofrdb7fjjx4ta\n",
            "insertId: 1xdggbodnzu7\n",
            "insertId: gowdumf1zqop8\n",
            "insertId: 16rwyyxf18ndeg\n",
            "insertId: w84whrfanhjd3\n",
            "insertId: qxbo5gflhqotk\n",
            "insertId: 185pr94eh7tb0\n",
            "insertId: xwp2gje2tyke\n",
            "insertId: ofrdb7fjjx4ta\n",
            "insertId: 1bqs4bsf1641o1\n",
            "insertId: 1ea28jkf150c0p\n",
            "insertId: vn3lhgfkjyn7t\n",
            "insertId: 1xdggbodnzu7\n",
            "insertId: 12bq7bgf1ybo2h\n",
            "insertId: gowdumf1zqop8\n",
            "insertId: ritjewfkif1l6\n",
            "insertId: lnebefjjuyks\n",
            "insertId: 18edk33fm81dcb\n"
          ]
        }
      ],
      "source": [
        "from google.cloud import bigquery\n",
        "\n",
        "# Create BigQuery client\n",
        "client = bigquery.Client()\n",
        "\n",
        "# SQL: Suspicious pip installs with file extensions like zip, gzip, tar.gz, etc.\n",
        "suspicious_query = \"\"\"\n",
        "SELECT\n",
        "  insertId,\n",
        "FROM\n",
        "  `fraud-459711.fraud_dataset.fraud_data`\n",
        "WHERE\n",
        "  user_interaction_awp IS NOT NULL\n",
        "  AND REGEXP_CONTAINS(LOWER(CAST(user_interaction_awp AS STRING)), r'pip install')\n",
        "  AND REGEXP_CONTAINS(LOWER(CAST(user_interaction_awp AS STRING)), r'\\\\.(zip|gzip|tar\\\\.gz|whl|bz2)')\n",
        "\"\"\"\n",
        "\n",
        "# Run the query\n",
        "query_job = client.query(suspicious_query)\n",
        "results = query_job.result()\n",
        "\n",
        "# Print each suspicious record\n",
        "print(\"🔍 Suspicious pip installs with archive formats:\\n\")\n",
        "for row in results:\n",
        "    print(f\"insertId: {row.insertId}\")"
      ]
    },
    {
      "cell_type": "code",
      "execution_count": null,
      "id": "b2e016ef-738d-40bf-98eb-f9485a5af5a0",
      "metadata": {
        "tags": [],
        "id": "b2e016ef-738d-40bf-98eb-f9485a5af5a0",
        "outputId": "529d560d-cdab-4000-bc29-307c0506abe2"
      },
      "outputs": [
        {
          "name": "stdout",
          "output_type": "stream",
          "text": [
            "🔍 Suspicious pip installs with hardcoded passwords:\n",
            "\n",
            "insertId: nddioufl2qu1u\n",
            "insertId: 1c120y5f1aviam\n",
            "insertId: efjg9bf67e1of\n",
            "insertId: 1gr4wqhf21m97f\n",
            "insertId: 1havxnlf1zlma1\n",
            "insertId: 1fxaiqjf232qkj\n",
            "insertId: 1aco6l4f20easu\n",
            "insertId: h8do8lf1jckl4\n",
            "insertId: aaj7k1f1y8257\n",
            "insertId: 18oa3h7f20o33z\n",
            "insertId: 7rtflif6j4z69\n",
            "insertId: kkn0dsfjqh61c\n",
            "insertId: s2a9bkfjj9uxx\n",
            "insertId: 16r3jigf3kl415\n",
            "insertId: rrsnuifkm63ta\n",
            "insertId: ub058of4hr6f5\n",
            "insertId: 1q5jogdf8z2xgj\n",
            "insertId: 153uur4fk1b1q8\n",
            "insertId: 3n2l41fjr2s62\n",
            "insertId: 1kn9olee1tojb\n",
            "insertId: 1b7p025f3vl6uy\n",
            "insertId: egtgv6f4gs7ri\n",
            "insertId: 1ei1hcxf3k5k5e\n",
            "insertId: 1plfe3e1dsjk\n",
            "insertId: alhiykf1fl6yu\n",
            "insertId: iwztjgf20005r\n",
            "insertId: x1rarzf20p25z\n",
            "insertId: 7igjn1f15hk0r\n",
            "insertId: 1kn9olee1tojb\n",
            "insertId: x1rarzf20p25z\n",
            "insertId: 7rtflif6j4z69\n",
            "insertId: efjg9bf67e1of\n",
            "insertId: h8do8lf1jckl4\n",
            "insertId: aaj7k1f1y8257\n",
            "insertId: 1plfe3e1dsjk\n",
            "insertId: 153uur4fk1b1q8\n",
            "insertId: b4coyflioqfo\n",
            "insertId: nddioufl2qu1u\n",
            "insertId: alhiykf1fl6yu\n",
            "insertId: 1q5jogdf8z2xgj\n",
            "insertId: 1c120y5f1aviam\n",
            "insertId: iwztjgf20005r\n",
            "insertId: ua2ldxfn2q5mu\n",
            "insertId: 1gr4wqhf21m97f\n",
            "insertId: 1b7p025f3vl6uy\n",
            "insertId: kkn0dsfjqh61c\n",
            "insertId: egtgv6f4gs7ri\n",
            "insertId: ub058of4hr6f5\n",
            "insertId: 18oa3h7f20o33z\n",
            "insertId: 16r3jigf3kl415\n",
            "insertId: 1aco6l4f20easu\n",
            "insertId: 1havxnlf1zlma1\n",
            "insertId: eq93jzflzpsrh\n",
            "insertId: 1fxaiqjf232qkj\n",
            "insertId: rrsnuifkm63ta\n",
            "insertId: 3n2l41fjr2s62\n",
            "insertId: 1ei1hcxf3k5k5e\n",
            "insertId: s2a9bkfjj9uxx\n",
            "insertId: 7igjn1f15hk0r\n"
          ]
        }
      ],
      "source": [
        "from google.cloud import bigquery\n",
        "\n",
        "# Initialize the BigQuery client\n",
        "client = bigquery.Client()\n",
        "\n",
        "# SQL query to detect hardcoded passwords\n",
        "query = \"\"\"\n",
        "SELECT\n",
        "  insertId\n",
        "FROM\n",
        "  `fraud-459711.fraud_dataset.fraud_data`\n",
        "WHERE\n",
        "  user_interaction_awp IS NOT NULL\n",
        "  AND REGEXP_CONTAINS(\n",
        "    LOWER(CAST(user_interaction_awp AS STRING)),\n",
        "    r'(password\\\\s*=\\\\s*[\"\\\\\\']?.+?[\"\\\\\\']?|--password\\\\s+\\\\S+|pwd\\\\s*=\\\\s*[\"\\\\\\']?.+?[\"\\\\\\']?|[\"\\\\\\']password[\"\\\\\\']\\\\s*:\\\\s*[\"\\\\\\']?.+?[\"\\\\\\'])'\n",
        "  )\n",
        "\"\"\"\n",
        "\n",
        "# Execute the query\n",
        "query_job = client.query(query)\n",
        "results = query_job.result()\n",
        "\n",
        "# Print each suspicious record\n",
        "print(\"🔍 Suspicious pip installs with hardcoded passwords:\\n\")\n",
        "for row in results:\n",
        "    print(f\"insertId: {row.insertId}\")"
      ]
    },
    {
      "cell_type": "code",
      "execution_count": null,
      "id": "abb7850b-d99e-42e7-b04a-ca6cfcc4e6f9",
      "metadata": {
        "tags": [],
        "id": "abb7850b-d99e-42e7-b04a-ca6cfcc4e6f9",
        "outputId": "a2bbee16-0dd8-4756-a672-e417efff6e0f"
      },
      "outputs": [
        {
          "name": "stdout",
          "output_type": "stream",
          "text": [
            "🆔 Insert IDs with hardcoded passwords:\n",
            "\n",
            "insertId: nddioufl2qu1u\n",
            "insertId: 1c120y5f1aviam\n",
            "insertId: 153uur4fk1b1q8\n",
            "insertId: 3n2l41fjr2s62\n",
            "insertId: 7igjn1f15hk0r\n",
            "insertId: 153uur4fk1b1q8\n",
            "insertId: nddioufl2qu1u\n",
            "insertId: 1c120y5f1aviam\n",
            "insertId: eq93jzflzpsrh\n",
            "insertId: 3n2l41fjr2s62\n",
            "insertId: 7igjn1f15hk0r\n"
          ]
        }
      ],
      "source": [
        "from google.cloud import bigquery\n",
        "\n",
        "# Initialize the BigQuery client\n",
        "client = bigquery.Client()\n",
        "\n",
        "# SQL query to extract insertIds where password=... is detected\n",
        "query = \"\"\"\n",
        "SELECT\n",
        "  insertId\n",
        "FROM\n",
        "  `fraud-459711.fraud_dataset.fraud_data`\n",
        "WHERE\n",
        "  user_interaction_awp IS NOT NULL\n",
        "  AND REGEXP_CONTAINS(\n",
        "    LOWER(CAST(user_interaction_awp AS STRING)),\n",
        "    r'password\\\\s*=\\\\s*[\"' || \"'\" || r']?.+?[\"' || \"'\" || r']?'\n",
        "  )\n",
        "\"\"\"\n",
        "\n",
        "# Execute the query\n",
        "query_job = client.query(query)\n",
        "results = query_job.result()\n",
        "\n",
        "# Display results\n",
        "print(\"🆔 Insert IDs with hardcoded passwords:\\n\")\n",
        "for row in results:\n",
        "    print(f\"insertId: {row.insertId}\")"
      ]
    },
    {
      "cell_type": "code",
      "execution_count": null,
      "id": "1e9952d5-1061-440d-bcd8-dd9473fdf74a",
      "metadata": {
        "tags": [],
        "id": "1e9952d5-1061-440d-bcd8-dd9473fdf74a",
        "outputId": "48724471-2311-47a8-93bd-94f83ceed915"
      },
      "outputs": [
        {
          "name": "stdout",
          "output_type": "stream",
          "text": [
            "🔐 Hardcoded passwords detected:\n",
            "\n",
            "password: 3423 fsd fsd \n",
            "password: dsa\n",
            "password: fasdfs\n",
            "password: fasdfs\n",
            "                }\n",
            "            }\n",
            "        }\n",
            "    }\n",
            "}\n",
            "password: os.environ.get(\n",
            "password: fasdfs\n",
            "password: 3423 fsd fsd \n",
            "password: dsa\n",
            "password:  \n",
            "password: fasdfs\n",
            "                }\n",
            "            }\n",
            "        }\n",
            "    }\n",
            "}\n",
            "password: os.environ.get(\n"
          ]
        }
      ],
      "source": [
        "from google.cloud import bigquery\n",
        "\n",
        "# Initialize the BigQuery client\n",
        "client = bigquery.Client()\n",
        "\n",
        "# SQL query to extract hardcoded passwords (just password=... pattern)\n",
        "query = \"\"\"\n",
        "SELECT\n",
        "  REGEXP_EXTRACT(\n",
        "    LOWER(CAST(user_interaction_awp AS STRING)),\n",
        "    r'password\\\\s*=\\\\s*[\"' || \"'\" || r']?([^\"' || \"'\" || r']+)'\n",
        "  ) AS potential_password\n",
        "FROM\n",
        "  `fraud-459711.fraud_dataset.fraud_data`\n",
        "WHERE\n",
        "  user_interaction_awp IS NOT NULL\n",
        "  AND REGEXP_CONTAINS(\n",
        "    LOWER(CAST(user_interaction_awp AS STRING)),\n",
        "    r'password\\\\s*=\\\\s*[\"' || \"'\" || r']?.+?[\"' || \"'\" || r']?'\n",
        "  )\n",
        "\"\"\"\n",
        "\n",
        "# Execute the query\n",
        "query_job = client.query(query)\n",
        "results = query_job.result()\n",
        "\n",
        "# Display results\n",
        "print(\"🔐 Hardcoded passwords detected:\\n\")\n",
        "for row in results:\n",
        "    print(f\"password: {row.potential_password}\")"
      ]
    },
    {
      "cell_type": "code",
      "execution_count": null,
      "id": "3c51d34f-8718-451f-b47d-6c9baf957b39",
      "metadata": {
        "tags": [],
        "id": "3c51d34f-8718-451f-b47d-6c9baf957b39",
        "outputId": "7c38b4e9-1258-46fb-ec5d-737d2050b9a3"
      },
      "outputs": [
        {
          "name": "stdout",
          "output_type": "stream",
          "text": [
            "✅ No installs of blocklisted packages were detected.\n"
          ]
        }
      ],
      "source": [
        "from google.cloud import bigquery\n",
        "\n",
        "client = bigquery.Client()\n",
        "\n",
        "query = \"\"\"\n",
        "WITH extracted_packages AS (\n",
        "  SELECT\n",
        "    insertId,\n",
        "    user_interaction_awp,\n",
        "    REGEXP_EXTRACT(user_interaction_awp, r'pip\\\\s+install\\\\s+(\\\\S+)') AS package\n",
        "  FROM\n",
        "    `fraud-459711.fraud_dataset.fraud_data`\n",
        "  WHERE\n",
        "    user_interaction_awp IS NOT NULL\n",
        "    AND REGEXP_CONTAINS(user_interaction_awp, r'pip\\\\s+install\\\\s+\\\\S+')\n",
        ")\n",
        "\n",
        "SELECT\n",
        "  e.insertId,\n",
        "  e.user_interaction_awp,\n",
        "  e.package\n",
        "FROM\n",
        "  extracted_packages e\n",
        "JOIN\n",
        "  `fraud-459711.fraud_dataset.blocklist_packages` b\n",
        "ON\n",
        "  LOWER(e.package) = LOWER(b.package_name)\n",
        "\"\"\"\n",
        "\n",
        "query_job = client.query(query)\n",
        "results = list(query_job.result())  # Materialize results to list\n",
        "\n",
        "if not results:\n",
        "    print(\"✅ No installs of blocklisted packages were detected.\")\n",
        "else:\n",
        "    print(\"🚩 Detected installs of blocklisted packages:\\n\")\n",
        "    for row in results:\n",
        "        print(f\"insertId: {row.insertId}, package: {row.package}, command: {row.user_interaction_awp}\")"
      ]
    }
  ],
  "metadata": {
    "environment": {
      "kernel": "conda-base-py",
      "name": "workbench-notebooks.m129",
      "type": "gcloud",
      "uri": "us-docker.pkg.dev/deeplearning-platform-release/gcr.io/workbench-notebooks:m129"
    },
    "kernelspec": {
      "display_name": "Python 3 (ipykernel) (Local)",
      "language": "python",
      "name": "conda-base-py"
    },
    "language_info": {
      "codemirror_mode": {
        "name": "ipython",
        "version": 3
      },
      "file_extension": ".py",
      "mimetype": "text/x-python",
      "name": "python",
      "nbconvert_exporter": "python",
      "pygments_lexer": "ipython3",
      "version": "3.10.16"
    },
    "colab": {
      "provenance": []
    }
  },
  "nbformat": 4,
  "nbformat_minor": 5
}